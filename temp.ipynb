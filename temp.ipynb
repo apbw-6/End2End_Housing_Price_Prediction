{
 "cells": [
  {
   "cell_type": "markdown",
   "metadata": {},
   "source": [
    "Raw data to provide to Postman"
   ]
  },
  {
   "cell_type": "code",
   "execution_count": 2,
   "metadata": {},
   "outputs": [],
   "source": [
    "json_file = {\n",
    "    \"data\": {\n",
    "        \"longitude\": -122.21,\n",
    "        \"latitude\": 36.88,\n",
    "        \"housing_median_age\": 32,\n",
    "        \"total_rooms\": 860,\n",
    "        \"total_bedrooms\": 119,\n",
    "        \"population\": 302,\n",
    "        \"households\": 116,\n",
    "        \"median_income\": 8.3252,\n",
    "        \"ocean_proximity\": \"NEAR BAY\",\n",
    "    }\n",
    "}"
   ]
  }
 ],
 "metadata": {
  "kernelspec": {
   "display_name": ".venv",
   "language": "python",
   "name": "python3"
  },
  "language_info": {
   "codemirror_mode": {
    "name": "ipython",
    "version": 3
   },
   "file_extension": ".py",
   "mimetype": "text/x-python",
   "name": "python",
   "nbconvert_exporter": "python",
   "pygments_lexer": "ipython3",
   "version": "3.12.2"
  }
 },
 "nbformat": 4,
 "nbformat_minor": 2
}
